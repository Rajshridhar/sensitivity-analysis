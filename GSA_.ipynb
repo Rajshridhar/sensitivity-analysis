{
  "nbformat": 4,
  "nbformat_minor": 0,
  "metadata": {
    "colab": {
      "provenance": []
    },
    "kernelspec": {
      "name": "python3",
      "display_name": "Python 3"
    },
    "language_info": {
      "name": "python"
    }
  },
  "cells": [
    {
      "cell_type": "code",
      "execution_count": 1,
      "metadata": {
        "colab": {
          "base_uri": "https://localhost:8080/"
        },
        "id": "C72nYCyXX1ZP",
        "outputId": "a623daac-6aae-4400-ba85-87535d4fa9dc"
      },
      "outputs": [
        {
          "output_type": "stream",
          "name": "stdout",
          "text": [
            "Collecting SALib\n",
            "  Downloading salib-1.4.7-py3-none-any.whl (757 kB)\n",
            "\u001b[?25l     \u001b[90m━━━━━━━━━━━━━━━━━━━━━━━━━━━━━━━━━━━━━━━━\u001b[0m \u001b[32m0.0/758.0 kB\u001b[0m \u001b[31m?\u001b[0m eta \u001b[36m-:--:--\u001b[0m\r\u001b[2K     \u001b[91m━━━\u001b[0m\u001b[91m╸\u001b[0m\u001b[90m━━━━━━━━━━━━━━━━━━━━━━━━━━━━━━━━━━━━\u001b[0m \u001b[32m71.7/758.0 kB\u001b[0m \u001b[31m1.9 MB/s\u001b[0m eta \u001b[36m0:00:01\u001b[0m\r\u001b[2K     \u001b[91m━━━━━━━━━━━━━━━━━━━━━━━━━━━━━━━━━━━━━━━\u001b[0m\u001b[91m╸\u001b[0m \u001b[32m757.8/758.0 kB\u001b[0m \u001b[31m12.5 MB/s\u001b[0m eta \u001b[36m0:00:01\u001b[0m\r\u001b[2K     \u001b[90m━━━━━━━━━━━━━━━━━━━━━━━━━━━━━━━━━━━━━━━━\u001b[0m \u001b[32m758.0/758.0 kB\u001b[0m \u001b[31m10.2 MB/s\u001b[0m eta \u001b[36m0:00:00\u001b[0m\n",
            "\u001b[?25hRequirement already satisfied: matplotlib>=3.2.2 in /usr/local/lib/python3.10/dist-packages (from SALib) (3.7.1)\n",
            "Collecting multiprocess (from SALib)\n",
            "  Downloading multiprocess-0.70.15-py310-none-any.whl (134 kB)\n",
            "\u001b[2K     \u001b[90m━━━━━━━━━━━━━━━━━━━━━━━━━━━━━━━━━━━━━━━━\u001b[0m \u001b[32m134.8/134.8 kB\u001b[0m \u001b[31m16.1 MB/s\u001b[0m eta \u001b[36m0:00:00\u001b[0m\n",
            "\u001b[?25hRequirement already satisfied: numpy>=1.20.3 in /usr/local/lib/python3.10/dist-packages (from SALib) (1.23.5)\n",
            "Requirement already satisfied: pandas>=1.1.2 in /usr/local/lib/python3.10/dist-packages (from SALib) (1.5.3)\n",
            "Requirement already satisfied: scipy>=1.7.3 in /usr/local/lib/python3.10/dist-packages (from SALib) (1.11.4)\n",
            "Requirement already satisfied: contourpy>=1.0.1 in /usr/local/lib/python3.10/dist-packages (from matplotlib>=3.2.2->SALib) (1.2.0)\n",
            "Requirement already satisfied: cycler>=0.10 in /usr/local/lib/python3.10/dist-packages (from matplotlib>=3.2.2->SALib) (0.12.1)\n",
            "Requirement already satisfied: fonttools>=4.22.0 in /usr/local/lib/python3.10/dist-packages (from matplotlib>=3.2.2->SALib) (4.47.0)\n",
            "Requirement already satisfied: kiwisolver>=1.0.1 in /usr/local/lib/python3.10/dist-packages (from matplotlib>=3.2.2->SALib) (1.4.5)\n",
            "Requirement already satisfied: packaging>=20.0 in /usr/local/lib/python3.10/dist-packages (from matplotlib>=3.2.2->SALib) (23.2)\n",
            "Requirement already satisfied: pillow>=6.2.0 in /usr/local/lib/python3.10/dist-packages (from matplotlib>=3.2.2->SALib) (9.4.0)\n",
            "Requirement already satisfied: pyparsing>=2.3.1 in /usr/local/lib/python3.10/dist-packages (from matplotlib>=3.2.2->SALib) (3.1.1)\n",
            "Requirement already satisfied: python-dateutil>=2.7 in /usr/local/lib/python3.10/dist-packages (from matplotlib>=3.2.2->SALib) (2.8.2)\n",
            "Requirement already satisfied: pytz>=2020.1 in /usr/local/lib/python3.10/dist-packages (from pandas>=1.1.2->SALib) (2023.3.post1)\n",
            "Collecting dill>=0.3.7 (from multiprocess->SALib)\n",
            "  Downloading dill-0.3.7-py3-none-any.whl (115 kB)\n",
            "\u001b[2K     \u001b[90m━━━━━━━━━━━━━━━━━━━━━━━━━━━━━━━━━━━━━━━━\u001b[0m \u001b[32m115.3/115.3 kB\u001b[0m \u001b[31m14.0 MB/s\u001b[0m eta \u001b[36m0:00:00\u001b[0m\n",
            "\u001b[?25hRequirement already satisfied: six>=1.5 in /usr/local/lib/python3.10/dist-packages (from python-dateutil>=2.7->matplotlib>=3.2.2->SALib) (1.16.0)\n",
            "Installing collected packages: dill, multiprocess, SALib\n",
            "Successfully installed SALib-1.4.7 dill-0.3.7 multiprocess-0.70.15\n"
          ]
        }
      ],
      "source": [
        "pip install SALib"
      ]
    },
    {
      "cell_type": "code",
      "source": [
        "import numpy as np\n",
        "from SALib.sample import saltelli\n",
        "from SALib.analyze import sobol\n",
        "from scipy.stats import norm\n",
        "import matplotlib.pyplot as plt\n"
      ],
      "metadata": {
        "id": "XjSjWb8WaHiN"
      },
      "execution_count": 2,
      "outputs": []
    },
    {
      "cell_type": "code",
      "source": [
        "# Define your model function\n",
        "def model_function(x):\n",
        "    # Example model: quadratic function\n",
        "    return x[:, 0]**2 + x[:, 1]**2 + 0.1 * np.random.randn(len(x))"
      ],
      "metadata": {
        "id": "ou46jW3AaOXN"
      },
      "execution_count": 3,
      "outputs": []
    },
    {
      "cell_type": "code",
      "source": [
        "# Define the input parameters and their ranges\n",
        "problem = {\n",
        "    'num_vars': 2,\n",
        "    'names': ['x1', 'x2'],\n",
        "    'bounds': [[-1, 1], [-1, 1]]\n",
        "}"
      ],
      "metadata": {
        "id": "EV_9K6gYaa-X"
      },
      "execution_count": 4,
      "outputs": []
    },
    {
      "cell_type": "code",
      "source": [
        "# Generate samples using Sobol sequence\n",
        "param_values = saltelli.sample(problem, 1000)"
      ],
      "metadata": {
        "colab": {
          "base_uri": "https://localhost:8080/"
        },
        "id": "pMCYD0BMagNb",
        "outputId": "31146041-ab2b-42ab-b4a5-1f75b79a476c"
      },
      "execution_count": 5,
      "outputs": [
        {
          "output_type": "stream",
          "name": "stderr",
          "text": [
            "<ipython-input-5-e44d9c44297c>:2: DeprecationWarning: `salib.sample.saltelli` will be removed in SALib 1.5. Please use `salib.sample.sobol`\n",
            "  param_values = saltelli.sample(problem, 1000)\n",
            "/usr/local/lib/python3.10/dist-packages/SALib/sample/saltelli.py:109: UserWarning: \n",
            "        Convergence properties of the Sobol' sequence is only valid if\n",
            "        `N` (1000) is equal to `2^n`.\n",
            "        \n",
            "  warnings.warn(msg)\n"
          ]
        }
      ]
    },
    {
      "cell_type": "code",
      "source": [
        "# Run the model for each set of parameter values\n",
        "output_values = model_function(param_values)"
      ],
      "metadata": {
        "id": "5mBAOtDwakyC"
      },
      "execution_count": 6,
      "outputs": []
    },
    {
      "cell_type": "code",
      "source": [
        "# Perform Sobol sensitivity analysis\n",
        "sobol_indices = sobol.analyze(problem, output_values)"
      ],
      "metadata": {
        "id": "Pjz4W57LazxC"
      },
      "execution_count": 7,
      "outputs": []
    },
    {
      "cell_type": "code",
      "source": [
        "# Print the sensitivity indices\n",
        "print(\"First-order indices:\", sobol_indices['S1'])\n",
        "print(\"Total-order indices:\", sobol_indices['ST'])"
      ],
      "metadata": {
        "colab": {
          "base_uri": "https://localhost:8080/"
        },
        "id": "PcTogW9Da6lN",
        "outputId": "41a0e451-0d13-4c86-c282-246e19f1f440"
      },
      "execution_count": 8,
      "outputs": [
        {
          "output_type": "stream",
          "name": "stdout",
          "text": [
            "First-order indices: [0.47890382 0.46160066]\n",
            "Total-order indices: [0.52364258 0.54833197]\n"
          ]
        }
      ]
    },
    {
      "cell_type": "code",
      "source": [
        "# Plot the results\n",
        "fig, ax = plt.subplots()\n",
        "bar_width = 0.30\n",
        "bar_positions = np.arange(len(problem['names']))\n",
        "ax.bar(bar_positions - bar_width / 2, sobol_indices['S1'], bar_width, label='First-order')\n",
        "ax.bar(bar_positions + bar_width / 2, sobol_indices['ST'], bar_width, label='Total-order')\n",
        "ax.set_xticks(bar_positions)\n",
        "ax.set_xticklabels(problem['names'])\n",
        "ax.legend()\n",
        "plt.show()"
      ],
      "metadata": {
        "colab": {
          "base_uri": "https://localhost:8080/",
          "height": 430
        },
        "id": "nQaTn63Xa_aV",
        "outputId": "2cabef0e-962f-45f4-e42d-3f00da8c9620"
      },
      "execution_count": 10,
      "outputs": [
        {
          "output_type": "display_data",
          "data": {
            "text/plain": [
              "<Figure size 640x480 with 1 Axes>"
            ],
            "image/png": "[encoded data removed]"
          },
          "metadata": {}
        }
      ]
    },
    {
      "cell_type": "code",
      "source": [],
      "metadata": {
        "id": "XC3MuNQ9bHi6"
      },
      "execution_count": null,
      "outputs": []
    }
  ]
}